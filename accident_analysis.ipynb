{
 "cells": [
  {
   "cell_type": "markdown",
   "metadata": {},
   "source": [
    "  # US accidents - EDA\n",
    "  \n",
    "### EDA steps to Perform\n",
    "#### 1. Data preparation and cleaning\n",
    "#### 2. Load data using pandas\n",
    "#### 3. Analyse data and columns\n",
    "#### 4. Fix missing and incorrect values\n",
    "\n",
    "### Importing necessary libraries \n"
   ]
  },
  {
   "cell_type": "code",
   "execution_count": 1,
   "metadata": {},
   "outputs": [],
   "source": [
    "import pandas as pd\n",
    "import seaborn as sns\n",
    "import matplotlib.pyplot as plt"
   ]
  },
  {
   "cell_type": "markdown",
   "metadata": {},
   "source": [
    "## Data Preparation and Cleaning\n",
    "### Importing dataset from Local"
   ]
  },
  {
   "cell_type": "code",
   "execution_count": 7,
   "metadata": {},
   "outputs": [],
   "source": [
    "datafile = 'D:/Accident analysis/archive/US_Accidents_Dec20_Updated.csv'\n"
   ]
  },
  {
   "cell_type": "markdown",
   "metadata": {},
   "source": []
  },
  {
   "cell_type": "code",
   "execution_count": 12,
   "metadata": {},
   "outputs": [],
   "source": []
  },
  {
   "cell_type": "code",
   "execution_count": 8,
   "metadata": {},
   "outputs": [],
   "source": [
    "df = pd.read_csv(datafile)\n",
    "\n"
   ]
  },
  {
   "cell_type": "code",
   "execution_count": 9,
   "metadata": {},
   "outputs": [
    {
     "data": {
      "text/html": [
       "<div>\n",
       "<style scoped>\n",
       "    .dataframe tbody tr th:only-of-type {\n",
       "        vertical-align: middle;\n",
       "    }\n",
       "\n",
       "    .dataframe tbody tr th {\n",
       "        vertical-align: top;\n",
       "    }\n",
       "\n",
       "    .dataframe thead th {\n",
       "        text-align: right;\n",
       "    }\n",
       "</style>\n",
       "<table border=\"1\" class=\"dataframe\">\n",
       "  <thead>\n",
       "    <tr style=\"text-align: right;\">\n",
       "      <th></th>\n",
       "      <th>ID</th>\n",
       "      <th>Severity</th>\n",
       "      <th>Start_Time</th>\n",
       "      <th>End_Time</th>\n",
       "      <th>Start_Lat</th>\n",
       "      <th>Start_Lng</th>\n",
       "      <th>End_Lat</th>\n",
       "      <th>End_Lng</th>\n",
       "      <th>Distance(mi)</th>\n",
       "      <th>Description</th>\n",
       "      <th>...</th>\n",
       "      <th>Roundabout</th>\n",
       "      <th>Station</th>\n",
       "      <th>Stop</th>\n",
       "      <th>Traffic_Calming</th>\n",
       "      <th>Traffic_Signal</th>\n",
       "      <th>Turning_Loop</th>\n",
       "      <th>Sunrise_Sunset</th>\n",
       "      <th>Civil_Twilight</th>\n",
       "      <th>Nautical_Twilight</th>\n",
       "      <th>Astronomical_Twilight</th>\n",
       "    </tr>\n",
       "  </thead>\n",
       "  <tbody>\n",
       "    <tr>\n",
       "      <th>0</th>\n",
       "      <td>A-1</td>\n",
       "      <td>2</td>\n",
       "      <td>2019-05-21 08:29:55</td>\n",
       "      <td>2019-05-21 09:29:40</td>\n",
       "      <td>34.808868</td>\n",
       "      <td>-82.269157</td>\n",
       "      <td>34.808868</td>\n",
       "      <td>-82.269157</td>\n",
       "      <td>0.000</td>\n",
       "      <td>Accident on Tanner Rd at Pennbrooke Ln.</td>\n",
       "      <td>...</td>\n",
       "      <td>False</td>\n",
       "      <td>False</td>\n",
       "      <td>False</td>\n",
       "      <td>False</td>\n",
       "      <td>False</td>\n",
       "      <td>False</td>\n",
       "      <td>Day</td>\n",
       "      <td>Day</td>\n",
       "      <td>Day</td>\n",
       "      <td>Day</td>\n",
       "    </tr>\n",
       "    <tr>\n",
       "      <th>1</th>\n",
       "      <td>A-2</td>\n",
       "      <td>2</td>\n",
       "      <td>2019-10-07 17:43:09</td>\n",
       "      <td>2019-10-07 19:42:50</td>\n",
       "      <td>35.090080</td>\n",
       "      <td>-80.745560</td>\n",
       "      <td>35.090080</td>\n",
       "      <td>-80.745560</td>\n",
       "      <td>0.000</td>\n",
       "      <td>Accident on Houston Branch Rd at Providence Br...</td>\n",
       "      <td>...</td>\n",
       "      <td>False</td>\n",
       "      <td>False</td>\n",
       "      <td>False</td>\n",
       "      <td>False</td>\n",
       "      <td>False</td>\n",
       "      <td>False</td>\n",
       "      <td>Day</td>\n",
       "      <td>Day</td>\n",
       "      <td>Day</td>\n",
       "      <td>Day</td>\n",
       "    </tr>\n",
       "    <tr>\n",
       "      <th>2</th>\n",
       "      <td>A-3</td>\n",
       "      <td>2</td>\n",
       "      <td>2020-12-13 21:53:00</td>\n",
       "      <td>2020-12-13 22:44:00</td>\n",
       "      <td>37.145730</td>\n",
       "      <td>-121.985052</td>\n",
       "      <td>37.165850</td>\n",
       "      <td>-121.988062</td>\n",
       "      <td>1.400</td>\n",
       "      <td>Stationary traffic on CA-17 from Summit Rd (CA...</td>\n",
       "      <td>...</td>\n",
       "      <td>False</td>\n",
       "      <td>False</td>\n",
       "      <td>False</td>\n",
       "      <td>False</td>\n",
       "      <td>False</td>\n",
       "      <td>False</td>\n",
       "      <td>Night</td>\n",
       "      <td>Night</td>\n",
       "      <td>Night</td>\n",
       "      <td>Night</td>\n",
       "    </tr>\n",
       "    <tr>\n",
       "      <th>3</th>\n",
       "      <td>A-4</td>\n",
       "      <td>2</td>\n",
       "      <td>2018-04-17 16:51:23</td>\n",
       "      <td>2018-04-17 17:50:46</td>\n",
       "      <td>39.110390</td>\n",
       "      <td>-119.773781</td>\n",
       "      <td>39.110390</td>\n",
       "      <td>-119.773781</td>\n",
       "      <td>0.000</td>\n",
       "      <td>Accident on US-395 Southbound at Topsy Ln.</td>\n",
       "      <td>...</td>\n",
       "      <td>False</td>\n",
       "      <td>False</td>\n",
       "      <td>False</td>\n",
       "      <td>False</td>\n",
       "      <td>True</td>\n",
       "      <td>False</td>\n",
       "      <td>Day</td>\n",
       "      <td>Day</td>\n",
       "      <td>Day</td>\n",
       "      <td>Day</td>\n",
       "    </tr>\n",
       "    <tr>\n",
       "      <th>4</th>\n",
       "      <td>A-5</td>\n",
       "      <td>3</td>\n",
       "      <td>2016-08-31 17:40:49</td>\n",
       "      <td>2016-08-31 18:10:49</td>\n",
       "      <td>26.102942</td>\n",
       "      <td>-80.265091</td>\n",
       "      <td>26.102942</td>\n",
       "      <td>-80.265091</td>\n",
       "      <td>0.000</td>\n",
       "      <td>Accident on I-595 Westbound at Exit 4 / Pine I...</td>\n",
       "      <td>...</td>\n",
       "      <td>False</td>\n",
       "      <td>False</td>\n",
       "      <td>False</td>\n",
       "      <td>False</td>\n",
       "      <td>True</td>\n",
       "      <td>False</td>\n",
       "      <td>Day</td>\n",
       "      <td>Day</td>\n",
       "      <td>Day</td>\n",
       "      <td>Day</td>\n",
       "    </tr>\n",
       "    <tr>\n",
       "      <th>...</th>\n",
       "      <td>...</td>\n",
       "      <td>...</td>\n",
       "      <td>...</td>\n",
       "      <td>...</td>\n",
       "      <td>...</td>\n",
       "      <td>...</td>\n",
       "      <td>...</td>\n",
       "      <td>...</td>\n",
       "      <td>...</td>\n",
       "      <td>...</td>\n",
       "      <td>...</td>\n",
       "      <td>...</td>\n",
       "      <td>...</td>\n",
       "      <td>...</td>\n",
       "      <td>...</td>\n",
       "      <td>...</td>\n",
       "      <td>...</td>\n",
       "      <td>...</td>\n",
       "      <td>...</td>\n",
       "      <td>...</td>\n",
       "      <td>...</td>\n",
       "    </tr>\n",
       "    <tr>\n",
       "      <th>2906605</th>\n",
       "      <td>A-2906606</td>\n",
       "      <td>2</td>\n",
       "      <td>2018-06-28 08:49:01</td>\n",
       "      <td>2018-06-28 09:18:51</td>\n",
       "      <td>29.813824</td>\n",
       "      <td>-95.399437</td>\n",
       "      <td>29.813824</td>\n",
       "      <td>-95.399437</td>\n",
       "      <td>0.000</td>\n",
       "      <td>Accident on 30th St at Yale St.</td>\n",
       "      <td>...</td>\n",
       "      <td>False</td>\n",
       "      <td>False</td>\n",
       "      <td>True</td>\n",
       "      <td>False</td>\n",
       "      <td>False</td>\n",
       "      <td>False</td>\n",
       "      <td>Day</td>\n",
       "      <td>Day</td>\n",
       "      <td>Day</td>\n",
       "      <td>Day</td>\n",
       "    </tr>\n",
       "    <tr>\n",
       "      <th>2906606</th>\n",
       "      <td>A-2906607</td>\n",
       "      <td>2</td>\n",
       "      <td>2019-01-10 02:01:01</td>\n",
       "      <td>2019-01-10 02:30:32</td>\n",
       "      <td>34.068890</td>\n",
       "      <td>-117.342010</td>\n",
       "      <td>34.068890</td>\n",
       "      <td>-117.342010</td>\n",
       "      <td>0.000</td>\n",
       "      <td>At Valley Blvd - Accident.</td>\n",
       "      <td>...</td>\n",
       "      <td>False</td>\n",
       "      <td>False</td>\n",
       "      <td>False</td>\n",
       "      <td>False</td>\n",
       "      <td>False</td>\n",
       "      <td>False</td>\n",
       "      <td>Night</td>\n",
       "      <td>Night</td>\n",
       "      <td>Night</td>\n",
       "      <td>Night</td>\n",
       "    </tr>\n",
       "    <tr>\n",
       "      <th>2906607</th>\n",
       "      <td>A-2906608</td>\n",
       "      <td>2</td>\n",
       "      <td>2020-11-23 12:52:00</td>\n",
       "      <td>2020-11-24 00:47:37</td>\n",
       "      <td>25.702200</td>\n",
       "      <td>-80.335556</td>\n",
       "      <td>25.703040</td>\n",
       "      <td>-80.334099</td>\n",
       "      <td>0.108</td>\n",
       "      <td>Stationary traffic on County Hwy-913 - FL-986 ...</td>\n",
       "      <td>...</td>\n",
       "      <td>False</td>\n",
       "      <td>False</td>\n",
       "      <td>False</td>\n",
       "      <td>False</td>\n",
       "      <td>False</td>\n",
       "      <td>False</td>\n",
       "      <td>Day</td>\n",
       "      <td>Day</td>\n",
       "      <td>Day</td>\n",
       "      <td>Day</td>\n",
       "    </tr>\n",
       "    <tr>\n",
       "      <th>2906608</th>\n",
       "      <td>A-2906609</td>\n",
       "      <td>2</td>\n",
       "      <td>2019-12-29 22:38:00</td>\n",
       "      <td>2019-12-29 23:38:00</td>\n",
       "      <td>40.660140</td>\n",
       "      <td>-111.952460</td>\n",
       "      <td>40.660140</td>\n",
       "      <td>-111.952460</td>\n",
       "      <td>0.000</td>\n",
       "      <td>At UT-266/4700/Exit 15 - Accident.</td>\n",
       "      <td>...</td>\n",
       "      <td>False</td>\n",
       "      <td>False</td>\n",
       "      <td>False</td>\n",
       "      <td>False</td>\n",
       "      <td>False</td>\n",
       "      <td>False</td>\n",
       "      <td>Night</td>\n",
       "      <td>Night</td>\n",
       "      <td>Night</td>\n",
       "      <td>Night</td>\n",
       "    </tr>\n",
       "    <tr>\n",
       "      <th>2906609</th>\n",
       "      <td>A-2906610</td>\n",
       "      <td>2</td>\n",
       "      <td>2018-03-26 13:35:03</td>\n",
       "      <td>2018-03-26 14:39:00</td>\n",
       "      <td>38.831749</td>\n",
       "      <td>-104.748161</td>\n",
       "      <td>38.831749</td>\n",
       "      <td>-104.748161</td>\n",
       "      <td>0.000</td>\n",
       "      <td>Accident on Murray Blvd at Byron Dr.</td>\n",
       "      <td>...</td>\n",
       "      <td>False</td>\n",
       "      <td>False</td>\n",
       "      <td>False</td>\n",
       "      <td>False</td>\n",
       "      <td>True</td>\n",
       "      <td>False</td>\n",
       "      <td>Day</td>\n",
       "      <td>Day</td>\n",
       "      <td>Day</td>\n",
       "      <td>Day</td>\n",
       "    </tr>\n",
       "  </tbody>\n",
       "</table>\n",
       "<p>2906610 rows × 47 columns</p>\n",
       "</div>"
      ],
      "text/plain": [
       "                ID  Severity           Start_Time             End_Time  \\\n",
       "0              A-1         2  2019-05-21 08:29:55  2019-05-21 09:29:40   \n",
       "1              A-2         2  2019-10-07 17:43:09  2019-10-07 19:42:50   \n",
       "2              A-3         2  2020-12-13 21:53:00  2020-12-13 22:44:00   \n",
       "3              A-4         2  2018-04-17 16:51:23  2018-04-17 17:50:46   \n",
       "4              A-5         3  2016-08-31 17:40:49  2016-08-31 18:10:49   \n",
       "...            ...       ...                  ...                  ...   \n",
       "2906605  A-2906606         2  2018-06-28 08:49:01  2018-06-28 09:18:51   \n",
       "2906606  A-2906607         2  2019-01-10 02:01:01  2019-01-10 02:30:32   \n",
       "2906607  A-2906608         2  2020-11-23 12:52:00  2020-11-24 00:47:37   \n",
       "2906608  A-2906609         2  2019-12-29 22:38:00  2019-12-29 23:38:00   \n",
       "2906609  A-2906610         2  2018-03-26 13:35:03  2018-03-26 14:39:00   \n",
       "\n",
       "         Start_Lat   Start_Lng    End_Lat     End_Lng  Distance(mi)  \\\n",
       "0        34.808868  -82.269157  34.808868  -82.269157         0.000   \n",
       "1        35.090080  -80.745560  35.090080  -80.745560         0.000   \n",
       "2        37.145730 -121.985052  37.165850 -121.988062         1.400   \n",
       "3        39.110390 -119.773781  39.110390 -119.773781         0.000   \n",
       "4        26.102942  -80.265091  26.102942  -80.265091         0.000   \n",
       "...            ...         ...        ...         ...           ...   \n",
       "2906605  29.813824  -95.399437  29.813824  -95.399437         0.000   \n",
       "2906606  34.068890 -117.342010  34.068890 -117.342010         0.000   \n",
       "2906607  25.702200  -80.335556  25.703040  -80.334099         0.108   \n",
       "2906608  40.660140 -111.952460  40.660140 -111.952460         0.000   \n",
       "2906609  38.831749 -104.748161  38.831749 -104.748161         0.000   \n",
       "\n",
       "                                               Description  ...  Roundabout  \\\n",
       "0                  Accident on Tanner Rd at Pennbrooke Ln.  ...       False   \n",
       "1        Accident on Houston Branch Rd at Providence Br...  ...       False   \n",
       "2        Stationary traffic on CA-17 from Summit Rd (CA...  ...       False   \n",
       "3               Accident on US-395 Southbound at Topsy Ln.  ...       False   \n",
       "4        Accident on I-595 Westbound at Exit 4 / Pine I...  ...       False   \n",
       "...                                                    ...  ...         ...   \n",
       "2906605                    Accident on 30th St at Yale St.  ...       False   \n",
       "2906606                         At Valley Blvd - Accident.  ...       False   \n",
       "2906607  Stationary traffic on County Hwy-913 - FL-986 ...  ...       False   \n",
       "2906608                 At UT-266/4700/Exit 15 - Accident.  ...       False   \n",
       "2906609               Accident on Murray Blvd at Byron Dr.  ...       False   \n",
       "\n",
       "        Station   Stop Traffic_Calming Traffic_Signal Turning_Loop  \\\n",
       "0         False  False           False          False        False   \n",
       "1         False  False           False          False        False   \n",
       "2         False  False           False          False        False   \n",
       "3         False  False           False           True        False   \n",
       "4         False  False           False           True        False   \n",
       "...         ...    ...             ...            ...          ...   \n",
       "2906605   False   True           False          False        False   \n",
       "2906606   False  False           False          False        False   \n",
       "2906607   False  False           False          False        False   \n",
       "2906608   False  False           False          False        False   \n",
       "2906609   False  False           False           True        False   \n",
       "\n",
       "        Sunrise_Sunset Civil_Twilight Nautical_Twilight Astronomical_Twilight  \n",
       "0                  Day            Day               Day                   Day  \n",
       "1                  Day            Day               Day                   Day  \n",
       "2                Night          Night             Night                 Night  \n",
       "3                  Day            Day               Day                   Day  \n",
       "4                  Day            Day               Day                   Day  \n",
       "...                ...            ...               ...                   ...  \n",
       "2906605            Day            Day               Day                   Day  \n",
       "2906606          Night          Night             Night                 Night  \n",
       "2906607            Day            Day               Day                   Day  \n",
       "2906608          Night          Night             Night                 Night  \n",
       "2906609            Day            Day               Day                   Day  \n",
       "\n",
       "[2906610 rows x 47 columns]"
      ]
     },
     "execution_count": 9,
     "metadata": {},
     "output_type": "execute_result"
    }
   ],
   "source": [
    "df\n",
    "\n"
   ]
  },
  {
   "cell_type": "code",
   "execution_count": 15,
   "metadata": {},
   "outputs": [
    {
     "data": {
      "text/plain": [
       "Index(['ID', 'Severity', 'Start_Time', 'End_Time', 'Start_Lat', 'Start_Lng',\n",
       "       'End_Lat', 'End_Lng', 'Distance(mi)', 'Description', 'Number', 'Street',\n",
       "       'Side', 'City', 'County', 'State', 'Zipcode', 'Country', 'Timezone',\n",
       "       'Airport_Code', 'Weather_Timestamp', 'Temperature(F)', 'Wind_Chill(F)',\n",
       "       'Humidity(%)', 'Pressure(in)', 'Visibility(mi)', 'Wind_Direction',\n",
       "       'Wind_Speed(mph)', 'Precipitation(in)', 'Weather_Condition', 'Amenity',\n",
       "       'Bump', 'Crossing', 'Give_Way', 'Junction', 'No_Exit', 'Railway',\n",
       "       'Roundabout', 'Station', 'Stop', 'Traffic_Calming', 'Traffic_Signal',\n",
       "       'Turning_Loop', 'Sunrise_Sunset', 'Civil_Twilight', 'Nautical_Twilight',\n",
       "       'Astronomical_Twilight'],\n",
       "      dtype='object')"
      ]
     },
     "execution_count": 15,
     "metadata": {},
     "output_type": "execute_result"
    }
   ],
   "source": [
    "df.columns"
   ]
  },
  {
   "cell_type": "code",
   "execution_count": 16,
   "metadata": {},
   "outputs": [
    {
     "data": {
      "text/plain": [
       "47"
      ]
     },
     "execution_count": 16,
     "metadata": {},
     "output_type": "execute_result"
    }
   ],
   "source": [
    "len(df.columns)\n",
    "\n"
   ]
  },
  {
   "cell_type": "code",
   "execution_count": 17,
   "metadata": {},
   "outputs": [
    {
     "name": "stdout",
     "output_type": "stream",
     "text": [
      "<class 'pandas.core.frame.DataFrame'>\n",
      "RangeIndex: 2906610 entries, 0 to 2906609\n",
      "Data columns (total 47 columns):\n",
      " #   Column                 Dtype  \n",
      "---  ------                 -----  \n",
      " 0   ID                     object \n",
      " 1   Severity               int64  \n",
      " 2   Start_Time             object \n",
      " 3   End_Time               object \n",
      " 4   Start_Lat              float64\n",
      " 5   Start_Lng              float64\n",
      " 6   End_Lat                float64\n",
      " 7   End_Lng                float64\n",
      " 8   Distance(mi)           float64\n",
      " 9   Description            object \n",
      " 10  Number                 float64\n",
      " 11  Street                 object \n",
      " 12  Side                   object \n",
      " 13  City                   object \n",
      " 14  County                 object \n",
      " 15  State                  object \n",
      " 16  Zipcode                object \n",
      " 17  Country                object \n",
      " 18  Timezone               object \n",
      " 19  Airport_Code           object \n",
      " 20  Weather_Timestamp      object \n",
      " 21  Temperature(F)         float64\n",
      " 22  Wind_Chill(F)          float64\n",
      " 23  Humidity(%)            float64\n",
      " 24  Pressure(in)           float64\n",
      " 25  Visibility(mi)         float64\n",
      " 26  Wind_Direction         object \n",
      " 27  Wind_Speed(mph)        float64\n",
      " 28  Precipitation(in)      float64\n",
      " 29  Weather_Condition      object \n",
      " 30  Amenity                bool   \n",
      " 31  Bump                   bool   \n",
      " 32  Crossing               bool   \n",
      " 33  Give_Way               bool   \n",
      " 34  Junction               bool   \n",
      " 35  No_Exit                bool   \n",
      " 36  Railway                bool   \n",
      " 37  Roundabout             bool   \n",
      " 38  Station                bool   \n",
      " 39  Stop                   bool   \n",
      " 40  Traffic_Calming        bool   \n",
      " 41  Traffic_Signal         bool   \n",
      " 42  Turning_Loop           bool   \n",
      " 43  Sunrise_Sunset         object \n",
      " 44  Civil_Twilight         object \n",
      " 45  Nautical_Twilight      object \n",
      " 46  Astronomical_Twilight  object \n",
      "dtypes: bool(13), float64(13), int64(1), object(20)\n",
      "memory usage: 790.0+ MB\n"
     ]
    }
   ],
   "source": [
    "df.info()"
   ]
  },
  {
   "cell_type": "code",
   "execution_count": 18,
   "metadata": {},
   "outputs": [
    {
     "data": {
      "text/html": [
       "<div>\n",
       "<style scoped>\n",
       "    .dataframe tbody tr th:only-of-type {\n",
       "        vertical-align: middle;\n",
       "    }\n",
       "\n",
       "    .dataframe tbody tr th {\n",
       "        vertical-align: top;\n",
       "    }\n",
       "\n",
       "    .dataframe thead th {\n",
       "        text-align: right;\n",
       "    }\n",
       "</style>\n",
       "<table border=\"1\" class=\"dataframe\">\n",
       "  <thead>\n",
       "    <tr style=\"text-align: right;\">\n",
       "      <th></th>\n",
       "      <th>Severity</th>\n",
       "      <th>Start_Lat</th>\n",
       "      <th>Start_Lng</th>\n",
       "      <th>End_Lat</th>\n",
       "      <th>End_Lng</th>\n",
       "      <th>Distance(mi)</th>\n",
       "      <th>Number</th>\n",
       "      <th>Temperature(F)</th>\n",
       "      <th>Wind_Chill(F)</th>\n",
       "      <th>Humidity(%)</th>\n",
       "      <th>Pressure(in)</th>\n",
       "      <th>Visibility(mi)</th>\n",
       "      <th>Wind_Speed(mph)</th>\n",
       "      <th>Precipitation(in)</th>\n",
       "    </tr>\n",
       "  </thead>\n",
       "  <tbody>\n",
       "    <tr>\n",
       "      <th>count</th>\n",
       "      <td>2.906610e+06</td>\n",
       "      <td>2.906610e+06</td>\n",
       "      <td>2.906610e+06</td>\n",
       "      <td>2.623789e+06</td>\n",
       "      <td>2.623789e+06</td>\n",
       "      <td>2.906610e+06</td>\n",
       "      <td>1.014938e+06</td>\n",
       "      <td>2.839386e+06</td>\n",
       "      <td>1.722751e+06</td>\n",
       "      <td>2.835340e+06</td>\n",
       "      <td>2.849702e+06</td>\n",
       "      <td>2.834532e+06</td>\n",
       "      <td>2.599447e+06</td>\n",
       "      <td>1.605284e+06</td>\n",
       "    </tr>\n",
       "    <tr>\n",
       "      <th>mean</th>\n",
       "      <td>2.288649e+00</td>\n",
       "      <td>3.653027e+01</td>\n",
       "      <td>-9.642676e+01</td>\n",
       "      <td>3.651733e+01</td>\n",
       "      <td>-9.620367e+01</td>\n",
       "      <td>3.980541e-01</td>\n",
       "      <td>6.789728e+03</td>\n",
       "      <td>6.098873e+01</td>\n",
       "      <td>5.499048e+01</td>\n",
       "      <td>6.537758e+01</td>\n",
       "      <td>2.965685e+01</td>\n",
       "      <td>9.116766e+00</td>\n",
       "      <td>7.818111e+00</td>\n",
       "      <td>1.119459e-02</td>\n",
       "    </tr>\n",
       "    <tr>\n",
       "      <th>std</th>\n",
       "      <td>5.541618e-01</td>\n",
       "      <td>5.013964e+00</td>\n",
       "      <td>1.775412e+01</td>\n",
       "      <td>5.016609e+00</td>\n",
       "      <td>1.765971e+01</td>\n",
       "      <td>1.592556e+00</td>\n",
       "      <td>1.697225e+04</td>\n",
       "      <td>1.845258e+01</td>\n",
       "      <td>2.219542e+01</td>\n",
       "      <td>2.287854e+01</td>\n",
       "      <td>9.094133e-01</td>\n",
       "      <td>2.837271e+00</td>\n",
       "      <td>5.431171e+00</td>\n",
       "      <td>1.540812e-01</td>\n",
       "    </tr>\n",
       "    <tr>\n",
       "      <th>min</th>\n",
       "      <td>1.000000e+00</td>\n",
       "      <td>2.455527e+01</td>\n",
       "      <td>-1.246238e+02</td>\n",
       "      <td>2.455527e+01</td>\n",
       "      <td>-1.246238e+02</td>\n",
       "      <td>0.000000e+00</td>\n",
       "      <td>0.000000e+00</td>\n",
       "      <td>-8.900000e+01</td>\n",
       "      <td>-8.900000e+01</td>\n",
       "      <td>1.000000e+00</td>\n",
       "      <td>0.000000e+00</td>\n",
       "      <td>0.000000e+00</td>\n",
       "      <td>0.000000e+00</td>\n",
       "      <td>0.000000e+00</td>\n",
       "    </tr>\n",
       "    <tr>\n",
       "      <th>25%</th>\n",
       "      <td>2.000000e+00</td>\n",
       "      <td>3.366453e+01</td>\n",
       "      <td>-1.178232e+02</td>\n",
       "      <td>3.364659e+01</td>\n",
       "      <td>-1.177020e+02</td>\n",
       "      <td>0.000000e+00</td>\n",
       "      <td>9.650000e+02</td>\n",
       "      <td>4.890000e+01</td>\n",
       "      <td>3.900000e+01</td>\n",
       "      <td>4.900000e+01</td>\n",
       "      <td>2.959000e+01</td>\n",
       "      <td>1.000000e+01</td>\n",
       "      <td>4.600000e+00</td>\n",
       "      <td>0.000000e+00</td>\n",
       "    </tr>\n",
       "    <tr>\n",
       "      <th>50%</th>\n",
       "      <td>2.000000e+00</td>\n",
       "      <td>3.609977e+01</td>\n",
       "      <td>-9.116690e+01</td>\n",
       "      <td>3.605898e+01</td>\n",
       "      <td>-9.105163e+01</td>\n",
       "      <td>0.000000e+00</td>\n",
       "      <td>3.093000e+03</td>\n",
       "      <td>6.300000e+01</td>\n",
       "      <td>5.800000e+01</td>\n",
       "      <td>6.800000e+01</td>\n",
       "      <td>2.992000e+01</td>\n",
       "      <td>1.000000e+01</td>\n",
       "      <td>7.000000e+00</td>\n",
       "      <td>0.000000e+00</td>\n",
       "    </tr>\n",
       "    <tr>\n",
       "      <th>75%</th>\n",
       "      <td>3.000000e+00</td>\n",
       "      <td>4.037505e+01</td>\n",
       "      <td>-8.085814e+01</td>\n",
       "      <td>4.033133e+01</td>\n",
       "      <td>-8.084679e+01</td>\n",
       "      <td>2.790000e-01</td>\n",
       "      <td>7.976000e+03</td>\n",
       "      <td>7.500000e+01</td>\n",
       "      <td>7.200000e+01</td>\n",
       "      <td>8.500000e+01</td>\n",
       "      <td>3.007000e+01</td>\n",
       "      <td>1.000000e+01</td>\n",
       "      <td>1.040000e+01</td>\n",
       "      <td>0.000000e+00</td>\n",
       "    </tr>\n",
       "    <tr>\n",
       "      <th>max</th>\n",
       "      <td>4.000000e+00</td>\n",
       "      <td>4.900220e+01</td>\n",
       "      <td>-6.711317e+01</td>\n",
       "      <td>4.907500e+01</td>\n",
       "      <td>-6.710924e+01</td>\n",
       "      <td>3.336300e+02</td>\n",
       "      <td>9.999997e+06</td>\n",
       "      <td>2.030000e+02</td>\n",
       "      <td>1.740000e+02</td>\n",
       "      <td>1.000000e+02</td>\n",
       "      <td>5.804000e+01</td>\n",
       "      <td>1.400000e+02</td>\n",
       "      <td>9.840000e+02</td>\n",
       "      <td>2.400000e+01</td>\n",
       "    </tr>\n",
       "  </tbody>\n",
       "</table>\n",
       "</div>"
      ],
      "text/plain": [
       "           Severity     Start_Lat     Start_Lng       End_Lat       End_Lng  \\\n",
       "count  2.906610e+06  2.906610e+06  2.906610e+06  2.623789e+06  2.623789e+06   \n",
       "mean   2.288649e+00  3.653027e+01 -9.642676e+01  3.651733e+01 -9.620367e+01   \n",
       "std    5.541618e-01  5.013964e+00  1.775412e+01  5.016609e+00  1.765971e+01   \n",
       "min    1.000000e+00  2.455527e+01 -1.246238e+02  2.455527e+01 -1.246238e+02   \n",
       "25%    2.000000e+00  3.366453e+01 -1.178232e+02  3.364659e+01 -1.177020e+02   \n",
       "50%    2.000000e+00  3.609977e+01 -9.116690e+01  3.605898e+01 -9.105163e+01   \n",
       "75%    3.000000e+00  4.037505e+01 -8.085814e+01  4.033133e+01 -8.084679e+01   \n",
       "max    4.000000e+00  4.900220e+01 -6.711317e+01  4.907500e+01 -6.710924e+01   \n",
       "\n",
       "       Distance(mi)        Number  Temperature(F)  Wind_Chill(F)  \\\n",
       "count  2.906610e+06  1.014938e+06    2.839386e+06   1.722751e+06   \n",
       "mean   3.980541e-01  6.789728e+03    6.098873e+01   5.499048e+01   \n",
       "std    1.592556e+00  1.697225e+04    1.845258e+01   2.219542e+01   \n",
       "min    0.000000e+00  0.000000e+00   -8.900000e+01  -8.900000e+01   \n",
       "25%    0.000000e+00  9.650000e+02    4.890000e+01   3.900000e+01   \n",
       "50%    0.000000e+00  3.093000e+03    6.300000e+01   5.800000e+01   \n",
       "75%    2.790000e-01  7.976000e+03    7.500000e+01   7.200000e+01   \n",
       "max    3.336300e+02  9.999997e+06    2.030000e+02   1.740000e+02   \n",
       "\n",
       "        Humidity(%)  Pressure(in)  Visibility(mi)  Wind_Speed(mph)  \\\n",
       "count  2.835340e+06  2.849702e+06    2.834532e+06     2.599447e+06   \n",
       "mean   6.537758e+01  2.965685e+01    9.116766e+00     7.818111e+00   \n",
       "std    2.287854e+01  9.094133e-01    2.837271e+00     5.431171e+00   \n",
       "min    1.000000e+00  0.000000e+00    0.000000e+00     0.000000e+00   \n",
       "25%    4.900000e+01  2.959000e+01    1.000000e+01     4.600000e+00   \n",
       "50%    6.800000e+01  2.992000e+01    1.000000e+01     7.000000e+00   \n",
       "75%    8.500000e+01  3.007000e+01    1.000000e+01     1.040000e+01   \n",
       "max    1.000000e+02  5.804000e+01    1.400000e+02     9.840000e+02   \n",
       "\n",
       "       Precipitation(in)  \n",
       "count       1.605284e+06  \n",
       "mean        1.119459e-02  \n",
       "std         1.540812e-01  \n",
       "min         0.000000e+00  \n",
       "25%         0.000000e+00  \n",
       "50%         0.000000e+00  \n",
       "75%         0.000000e+00  \n",
       "max         2.400000e+01  "
      ]
     },
     "execution_count": 18,
     "metadata": {},
     "output_type": "execute_result"
    }
   ],
   "source": [
    "df.describe()\n"
   ]
  },
  {
   "cell_type": "code",
   "execution_count": 19,
   "metadata": {},
   "outputs": [],
   "source": [
    "#numeric columns\n",
    "numerics = ['int16', 'int32', 'int64', 'float16', 'float32', 'float64']\n",
    "\n",
    "newdf = df.select_dtypes(include=numerics)"
   ]
  },
  {
   "cell_type": "code",
   "execution_count": 20,
   "metadata": {},
   "outputs": [
    {
     "data": {
      "text/plain": [
       "14"
      ]
     },
     "execution_count": 20,
     "metadata": {},
     "output_type": "execute_result"
    }
   ],
   "source": [
    "len(newdf.columns)\n"
   ]
  },
  {
   "cell_type": "markdown",
   "metadata": {},
   "source": [
    "## Missing values\n"
   ]
  },
  {
   "cell_type": "code",
   "execution_count": null,
   "metadata": {},
   "outputs": [],
   "source": [
    "miss_values=df.isna().sum().sort_values(ascending=False)"
   ]
  },
  {
   "cell_type": "markdown",
   "metadata": {},
   "source": [
    "## Missing %"
   ]
  },
  {
   "cell_type": "code",
   "execution_count": 22,
   "metadata": {},
   "outputs": [],
   "source": [
    "\n",
    "miss_values_per = miss_values/len(df)"
   ]
  },
  {
   "cell_type": "code",
   "execution_count": 23,
   "metadata": {},
   "outputs": [
    {
     "data": {
      "text/plain": [
       "<AxesSubplot:>"
      ]
     },
     "execution_count": 23,
     "metadata": {},
     "output_type": "execute_result"
    },
    {
     "data": {
      "image/png": "[encoded data removed]",
      "text/plain": [
       "<Figure size 432x288 with 1 Axes>"
      ]
     },
     "metadata": {
      "needs_background": "light"
     },
     "output_type": "display_data"
    }
   ],
   "source": [
    "miss_values_per.plot(kind='barh')"
   ]
  },
  {
   "cell_type": "code",
   "execution_count": 24,
   "metadata": {},
   "outputs": [
    {
     "data": {
      "text/plain": [
       "pandas.core.series.Series"
      ]
     },
     "execution_count": 24,
     "metadata": {},
     "output_type": "execute_result"
    }
   ],
   "source": [
    "type(miss_values)\n"
   ]
  },
  {
   "cell_type": "code",
   "execution_count": 25,
   "metadata": {},
   "outputs": [
    {
     "data": {
      "text/plain": [
       "pandas.core.series.Series"
      ]
     },
     "execution_count": 25,
     "metadata": {},
     "output_type": "execute_result"
    }
   ],
   "source": [
    "type(df.City)\n"
   ]
  },
  {
   "cell_type": "code",
   "execution_count": 26,
   "metadata": {},
   "outputs": [
    {
     "data": {
      "text/plain": [
       "108"
      ]
     },
     "execution_count": 26,
     "metadata": {},
     "output_type": "execute_result"
    }
   ],
   "source": [
    "df['City'].isna().sum()"
   ]
  },
  {
   "cell_type": "code",
   "execution_count": 27,
   "metadata": {},
   "outputs": [
    {
     "data": {
      "text/plain": [
       "Number                   0.650817\n",
       "Precipitation(in)        0.447713\n",
       "Wind_Chill(F)            0.407299\n",
       "Wind_Speed(mph)          0.105677\n",
       "End_Lat                  0.097303\n",
       "End_Lng                  0.097303\n",
       "Visibility(mi)           0.024798\n",
       "Weather_Condition        0.024720\n",
       "Humidity(%)              0.024520\n",
       "Temperature(F)           0.023128\n",
       "Wind_Direction           0.021838\n",
       "Pressure(in)             0.019579\n",
       "Weather_Timestamp        0.016141\n",
       "Airport_Code             0.002273\n",
       "Timezone                 0.001180\n",
       "Zipcode                  0.000383\n",
       "Nautical_Twilight        0.000038\n",
       "Astronomical_Twilight    0.000038\n",
       "Civil_Twilight           0.000038\n",
       "Sunrise_Sunset           0.000038\n",
       "City                     0.000037\n",
       "dtype: float64"
      ]
     },
     "execution_count": 27,
     "metadata": {},
     "output_type": "execute_result"
    }
   ],
   "source": [
    "miss_values_per[miss_values_per!=0]"
   ]
  },
  {
   "cell_type": "code",
   "execution_count": 28,
   "metadata": {},
   "outputs": [],
   "source": [
    "cities = df.City.unique()"
   ]
  },
  {
   "cell_type": "code",
   "execution_count": 29,
   "metadata": {},
   "outputs": [
    {
     "data": {
      "text/plain": [
       "11790"
      ]
     },
     "execution_count": 29,
     "metadata": {},
     "output_type": "execute_result"
    }
   ],
   "source": [
    "len(cities)"
   ]
  },
  {
   "cell_type": "code",
   "execution_count": 30,
   "metadata": {},
   "outputs": [],
   "source": [
    "cities1 =df.City.value_counts()"
   ]
  },
  {
   "cell_type": "code",
   "execution_count": 31,
   "metadata": {},
   "outputs": [
    {
     "data": {
      "text/plain": [
       "Los Angeles      68411\n",
       "Houston          68265\n",
       "Charlotte        56176\n",
       "Miami            49965\n",
       "Dallas           48525\n",
       "Austin           38808\n",
       "Raleigh          31355\n",
       "Atlanta          29244\n",
       "Sacramento       28984\n",
       "Orlando          28092\n",
       "Nashville        25277\n",
       "Baton Rouge      25080\n",
       "Minneapolis      22469\n",
       "San Diego        22329\n",
       "Phoenix          21370\n",
       "Oklahoma City    21292\n",
       "Portland         19432\n",
       "Richmond         18343\n",
       "Seattle          17384\n",
       "Saint Paul       17266\n",
       "Name: City, dtype: int64"
      ]
     },
     "execution_count": 31,
     "metadata": {},
     "output_type": "execute_result"
    }
   ],
   "source": [
    "cities1[:20]"
   ]
  },
  {
   "cell_type": "code",
   "execution_count": 32,
   "metadata": {},
   "outputs": [
    {
     "data": {
      "text/plain": [
       "False"
      ]
     },
     "execution_count": 32,
     "metadata": {},
     "output_type": "execute_result"
    }
   ],
   "source": [
    "\"New York\" in df.City\n"
   ]
  },
  {
   "cell_type": "code",
   "execution_count": 33,
   "metadata": {},
   "outputs": [],
   "source": [
    "high_cities = cities1[cities1>=2000]\n",
    "low_cities = cities1[cities1<2000]"
   ]
  },
  {
   "cell_type": "code",
   "execution_count": 34,
   "metadata": {},
   "outputs": [
    {
     "data": {
      "text/plain": [
       "Bloomington                1986\n",
       "Fort Mill                  1971\n",
       "Medford                    1969\n",
       "Conway                     1963\n",
       "West Columbia              1960\n",
       "                           ... \n",
       "Peckville                     1\n",
       "Manitou Beach                 1\n",
       "Margate City                  1\n",
       "East Central Washington       1\n",
       "Cairnbrook                    1\n",
       "Name: City, Length: 11566, dtype: int64"
      ]
     },
     "execution_count": 34,
     "metadata": {},
     "output_type": "execute_result"
    }
   ],
   "source": [
    "low_cities"
   ]
  },
  {
   "cell_type": "code",
   "execution_count": 35,
   "metadata": {},
   "outputs": [
    {
     "data": {
      "text/plain": [
       "str"
      ]
     },
     "execution_count": 35,
     "metadata": {},
     "output_type": "execute_result"
    }
   ],
   "source": [
    "type(df.Start_Time[0])"
   ]
  },
  {
   "cell_type": "code",
   "execution_count": 37,
   "metadata": {},
   "outputs": [
    {
     "data": {
      "text/plain": [
       "pandas._libs.tslibs.timestamps.Timestamp"
      ]
     },
     "execution_count": 37,
     "metadata": {},
     "output_type": "execute_result"
    }
   ],
   "source": [
    "type(df.Start_Time[0])"
   ]
  },
  {
   "cell_type": "code",
   "execution_count": 46,
   "metadata": {},
   "outputs": [],
   "source": [
    "df.Start_Time = pd.to_datetime(df.Start_Time)"
   ]
  },
  {
   "cell_type": "code",
   "execution_count": 38,
   "metadata": {},
   "outputs": [],
   "source": []
  },
  {
   "cell_type": "code",
   "execution_count": 48,
   "metadata": {},
   "outputs": [
    {
     "data": {
      "text/plain": [
       "Timestamp('2019-05-21 08:29:55')"
      ]
     },
     "execution_count": 48,
     "metadata": {},
     "output_type": "execute_result"
    }
   ],
   "source": [
    "df.Start_Time[0]"
   ]
  },
  {
   "cell_type": "markdown",
   "metadata": {},
   "source": [
    "## Exploratory Analysis and Visualization\n",
    "\n",
    "\n",
    "### Columns to analyse:\n",
    "#### 1.City"
   ]
  },
  {
   "cell_type": "code",
   "execution_count": 10,
   "metadata": {},
   "outputs": [
    {
     "data": {
      "text/plain": [
       "0                Greenville\n",
       "1                 Charlotte\n",
       "2                 Los Gatos\n",
       "3               Carson City\n",
       "4           Fort Lauderdale\n",
       "                 ...       \n",
       "2906605             Houston\n",
       "2906606              Colton\n",
       "2906607               Miami\n",
       "2906608      Salt Lake City\n",
       "2906609    Colorado Springs\n",
       "Name: City, Length: 2906610, dtype: object"
      ]
     },
     "execution_count": 10,
     "metadata": {},
     "output_type": "execute_result"
    }
   ],
   "source": [
    "df.City"
   ]
  },
  {
   "cell_type": "code",
   "execution_count": null,
   "metadata": {},
   "outputs": [],
   "source": []
  },
  {
   "cell_type": "code",
   "execution_count": null,
   "metadata": {},
   "outputs": [],
   "source": []
  },
  {
   "cell_type": "code",
   "execution_count": 39,
   "metadata": {},
   "outputs": [],
   "source": [
    "sns.set_style(\"darkgrid\")"
   ]
  },
  {
   "cell_type": "code",
   "execution_count": 40,
   "metadata": {},
   "outputs": [
    {
     "data": {
      "text/plain": [
       "<AxesSubplot:xlabel='City', ylabel='Count'>"
      ]
     },
     "execution_count": 40,
     "metadata": {},
     "output_type": "execute_result"
    },
    {
     "data": {
      "image/png": "[encoded data removed]",
      "text/plain": [
       "<Figure size 432x288 with 1 Axes>"
      ]
     },
     "metadata": {},
     "output_type": "display_data"
    }
   ],
   "source": [
    "sns.histplot(cities1, log_scale = True)"
   ]
  },
  {
   "cell_type": "markdown",
   "metadata": {},
   "source": [
    "### More than 1200 cities have only one accident.\n"
   ]
  },
  {
   "cell_type": "code",
   "execution_count": 42,
   "metadata": {},
   "outputs": [
    {
     "data": {
      "text/plain": [
       "<AxesSubplot:xlabel='Start_Time', ylabel='Count'>"
      ]
     },
     "execution_count": 42,
     "metadata": {},
     "output_type": "execute_result"
    },
    {
     "data": {
      "image/png": "[encoded data removed]",
      "text/plain": [
       "<Figure size 432x288 with 1 Axes>"
      ]
     },
     "metadata": {},
     "output_type": "display_data"
    }
   ],
   "source": [
    "sns.histplot(df.Start_Time)"
   ]
  },
  {
   "cell_type": "code",
   "execution_count": 43,
   "metadata": {},
   "outputs": [],
   "source": [
    "#There is an exponential increase in the no. of accidents over the years.\n"
   ]
  },
  {
   "cell_type": "code",
   "execution_count": 44,
   "metadata": {},
   "outputs": [
    {
     "name": "stderr",
     "output_type": "stream",
     "text": [
      "C:\\Users\\praka\\anaconda3\\lib\\site-packages\\seaborn\\distributions.py:2551: FutureWarning: `distplot` is a deprecated function and will be removed in a future version. Please adapt your code to use either `displot` (a figure-level function with similar flexibility) or `histplot` (an axes-level function for histograms).\n",
      "  warnings.warn(msg, FutureWarning)\n"
     ]
    },
    {
     "data": {
      "text/plain": [
       "<AxesSubplot:xlabel='Start_Time'>"
      ]
     },
     "execution_count": 44,
     "metadata": {},
     "output_type": "execute_result"
    },
    {
     "data": {
      "image/png": "[encoded data removed]",
      "text/plain": [
       "<Figure size 432x288 with 1 Axes>"
      ]
     },
     "metadata": {},
     "output_type": "display_data"
    }
   ],
   "source": [
    "sns.distplot(df.Start_Time.dt.hour, kde=False, bins = 24, norm_hist= True)"
   ]
  },
  {
   "cell_type": "markdown",
   "metadata": {},
   "source": [
    "### Majority percentage of the accidents happening in the timeline of 6AM - 10AM and 3PM-6PM."
   ]
  },
  {
   "cell_type": "markdown",
   "metadata": {},
   "source": [
    "# Summary and Conclusion\n",
    "\n",
    "## Insights:\n",
    "\n",
    "### 1. There is an exponential increase in the no. of accidents over the years.\n",
    "### 2. More than 1200 cities have only one accident.\n",
    "### 3. Majority percentage of the accidents happening in the timeline of 6AM - 10AM and 3PM - 6PM.\n"
   ]
  },
  {
   "cell_type": "code",
   "execution_count": null,
   "metadata": {},
   "outputs": [],
   "source": []
  }
 ],
 "metadata": {
  "kernelspec": {
   "display_name": "Python 3",
   "language": "python",
   "name": "python3"
  },
  "language_info": {
   "codemirror_mode": {
    "name": "ipython",
    "version": 3
   },
   "file_extension": ".py",
   "mimetype": "text/x-python",
   "name": "python",
   "nbconvert_exporter": "python",
   "pygments_lexer": "ipython3",
   "version": "3.8.5"
  }
 },
 "nbformat": 4,
 "nbformat_minor": 4
}
